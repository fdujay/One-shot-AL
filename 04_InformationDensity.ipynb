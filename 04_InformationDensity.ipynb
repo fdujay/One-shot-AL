{
 "cells": [
  {
   "cell_type": "code",
   "execution_count": 12,
   "metadata": {
    "ExecuteTime": {
     "end_time": "2020-08-24T06:11:35.308083Z",
     "start_time": "2020-08-24T06:11:35.298090Z"
    }
   },
   "outputs": [],
   "source": [
    "# import numpy as np\n",
    "# import matplotlib.pyplot as plt\n",
    "# import pandas as pd\n",
    "# from collections import Counter \n",
    "# from sklearn.preprocessing import scale\n",
    "# from modAL.density import information_density\n"
   ]
  },
  {
   "cell_type": "code",
   "execution_count": 17,
   "metadata": {},
   "outputs": [
    {
     "data": {
      "text/plain": [
       "518"
      ]
     },
     "execution_count": 17,
     "metadata": {},
     "output_type": "execute_result"
    }
   ],
   "source": [
    "'''\n",
    "ft:挑选后的特征\n",
    "t:特征对应金标准\n",
    "name:样本名称\n",
    "'''\n",
    "import pandas as pd\n",
    "from collections import Counter \n",
    "import numpy as np\n",
    "from sklearn.preprocessing import scale\n",
    "\n",
    "df1 = pd.read_csv('../FeatureBank/ISIC2018_VAE.csv',header = None)\n",
    "# print(df1.shape)\n",
    "ft = df1.values #特征样本/128维\n",
    "# ft = scale(ft)\n",
    "\n",
    "df2 = pd.read_csv('../2048/train.txt',sep = ' ',header = None)\n",
    "name = df2.iloc[:,0].values #图片位置名称\n",
    "# t = df2.iloc[:,1].values #金标准0/1\n",
    "# print('Original dataset:', Counter(t))\n",
    "\n",
    "ratio=0.25\n",
    "sel_num=int(ratio*len(ft))\n",
    "sel_num"
   ]
  },
  {
   "cell_type": "code",
   "execution_count": 18,
   "metadata": {
    "ExecuteTime": {
     "end_time": "2020-08-24T06:12:11.110632Z",
     "start_time": "2020-08-24T06:11:40.546100Z"
    }
   },
   "outputs": [],
   "source": [
    "from modAL.density import information_density\n",
    "cosine_density = information_density(ft, 'cosine')\n",
    "euclidean_density = information_density(ft, 'euclidean')\n",
    "\n",
    "# li=np.argsort(-euclidean_density)[:sel_num]#注意符号\n",
    "li=np.argsort(-cosine_density)[:sel_num]\n",
    "name_sel=name[li]\n",
    "ft_sel=ft[li]"
   ]
  },
  {
   "cell_type": "code",
   "execution_count": 19,
   "metadata": {},
   "outputs": [
    {
     "name": "stdout",
     "output_type": "stream",
     "text": [
      "\n",
      "注意保存csv的后缀\n",
      "\n"
     ]
    }
   ],
   "source": [
    "'''\n",
    "注意保存csv的后缀\n",
    "'''\n",
    "print(__doc__)\n",
    "dataframe = pd.DataFrame({'image_name':name_sel})\n",
    "dataframe.to_csv(\"../txt/VAE/ISIC_IDC25.txt\",index=False,sep=' ',header = None)"
   ]
  },
  {
   "cell_type": "code",
   "execution_count": 3,
   "metadata": {},
   "outputs": [],
   "source": [
    "# from sklearn.neighbors import LocalOutlierFactor\n",
    "# np.random.seed(42)\n",
    "# clf = LocalOutlierFactor(n_neighbors=20, contamination=ratio,n_jobs=8)\n",
    "# novel_pred = clf.fit_predict(ft)\n",
    "# # novel_scores = clf.negative_outlier_factor_\n",
    "# li = np.where(novel_pred==-1)\n",
    "# # li=np.argsort(novel_scores)[:1325]\n",
    "# name_sel=name[li]\n",
    "# ft_sel=ft[li]\n",
    "# t_sel=t[li]\n",
    "\n",
    "# print(Counter(t_sel))\n",
    "# print('Resampled dataset ratio %s' % (Counter(t_sel)[1]/len(t_sel)))"
   ]
  },
  {
   "cell_type": "code",
   "execution_count": 9,
   "metadata": {},
   "outputs": [],
   "source": [
    "# #效果显著\n",
    "# from sklearn.ensemble import IsolationForest\n",
    "# np.random.seed(42)\n",
    "# clf = IsolationForest(contamination=ratio,n_jobs=6).fit(ft)#一些超参数可以调节\n",
    "# novel_pred = clf.predict(ft)\n",
    "\n",
    "# li = np.where(novel_pred==-1)\n",
    "\n",
    "# name_sel=name[li]\n",
    "# ft_sel=ft[li]\n",
    "# t_sel=t[li]\n",
    "\n",
    "# print(Counter(t_sel))\n",
    "# print('Resampled dataset ratio %s' % (Counter(t_sel)[1]/len(t_sel)))"
   ]
  },
  {
   "cell_type": "code",
   "execution_count": 10,
   "metadata": {},
   "outputs": [],
   "source": [
    "# #更新原有csv\n",
    "# name_new = np.delete(name, li)\n",
    "# ft_new = np.delete(ft, li, axis=0)\n",
    "# t_new = np.delete(t, li)\n"
   ]
  },
  {
   "cell_type": "code",
   "execution_count": null,
   "metadata": {},
   "outputs": [],
   "source": []
  },
  {
   "cell_type": "code",
   "execution_count": 5,
   "metadata": {},
   "outputs": [],
   "source": [
    "dataframe = pd.DataFrame({'image_name':name_new,'target':t_new})\n",
    "dataframe.to_csv(\"../path/train_filter.txt\",index=False,header = None,sep=' ')"
   ]
  },
  {
   "cell_type": "code",
   "execution_count": 6,
   "metadata": {},
   "outputs": [],
   "source": [
    "feature_bank=pd.DataFrame(data=ft_new)\n",
    "feature_bank.to_csv(\"../csv/feature_bank_VAE_filter.csv\",header = None,index = None)"
   ]
  }
 ],
 "metadata": {
  "kernelspec": {
   "display_name": "Python 3",
   "language": "python",
   "name": "python3"
  },
  "language_info": {
   "codemirror_mode": {
    "name": "ipython",
    "version": 3
   },
   "file_extension": ".py",
   "mimetype": "text/x-python",
   "name": "python",
   "nbconvert_exporter": "python",
   "pygments_lexer": "ipython3",
   "version": "3.8.5"
  },
  "toc": {
   "base_numbering": 1,
   "nav_menu": {},
   "number_sections": true,
   "sideBar": true,
   "skip_h1_title": false,
   "title_cell": "Table of Contents",
   "title_sidebar": "Contents",
   "toc_cell": false,
   "toc_position": {},
   "toc_section_display": true,
   "toc_window_display": false
  }
 },
 "nbformat": 4,
 "nbformat_minor": 2
}
