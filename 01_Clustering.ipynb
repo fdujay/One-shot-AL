{
 "cells": [
  {
   "cell_type": "code",
   "execution_count": 12,
   "metadata": {
    "ExecuteTime": {
     "end_time": "2021-09-02T04:23:19.379000Z",
     "start_time": "2021-09-02T04:23:19.375357Z"
    }
   },
   "outputs": [],
   "source": [
    "%matplotlib inline\n",
    "\n",
    "import numpy as np\n",
    "import matplotlib.pyplot as plt\n",
    "import pandas as pd\n",
    "\n",
    "from sklearn import metrics\n",
    "from sklearn.cluster import KMeans\n",
    "from sklearn.cluster import Birch\n",
    "\n",
    "from sklearn.decomposition import PCA\n",
    "from sklearn.preprocessing import scale\n",
    "from collections import Counter \n",
    "import math\n",
    "\n",
    "# np.random.seed(42)"
   ]
  },
  {
   "cell_type": "code",
   "execution_count": 13,
   "metadata": {
    "ExecuteTime": {
     "end_time": "2021-09-02T04:23:20.638885Z",
     "start_time": "2021-09-02T04:23:20.596860Z"
    }
   },
   "outputs": [
    {
     "name": "stdout",
     "output_type": "stream",
     "text": [
      "(2075, 128)\n",
      "(2075, 2)\n"
     ]
    }
   ],
   "source": [
    "df1 = pd.read_csv('../FeatureBank/ISIC2018_NPID.csv',header = None)\n",
    "print(df1.shape)\n",
    "ft=df1.values\n",
    "\n",
    "df2 = pd.read_csv('../2048/train.txt',sep = ' ',header = None)\n",
    "print(df2.shape)\n",
    "# t = df2.iloc[:,1].values\n",
    "name = df2.iloc[:,0].values"
   ]
  },
  {
   "cell_type": "code",
   "execution_count": 20,
   "metadata": {
    "ExecuteTime": {
     "end_time": "2021-09-02T13:33:06.312021Z",
     "start_time": "2021-09-02T13:33:06.309767Z"
    }
   },
   "outputs": [],
   "source": [
    "'''\n",
    "关于超参数的若干设置\n",
    "'''\n",
    "# 是否数值均一化?\n",
    "# data = scale(ft)\n",
    "data = ft\n",
    "\n",
    "n_samples, n_features = data.shape\n",
    "\n",
    "#聚类的数目：\n",
    "n_digits = 500\n",
    "# labels = t\n",
    "sample_size = 200#silhouette_score采样数目"
   ]
  },
  {
   "cell_type": "code",
   "execution_count": 21,
   "metadata": {
    "ExecuteTime": {
     "end_time": "2021-09-02T13:33:07.133240Z",
     "start_time": "2021-09-02T13:33:06.779649Z"
    }
   },
   "outputs": [
    {
     "name": "stdout",
     "output_type": "stream",
     "text": [
      "Resampled dataset shape Counter({38: 12, 49: 10, 214: 10, 6: 9, 15: 9, 18: 8, 34: 8, 207: 8, 47: 8, 94: 8, 58: 8, 73: 8, 133: 8, 79: 8, 16: 8, 153: 8, 282: 7, 46: 7, 11: 7, 5: 7, 253: 7, 26: 7, 84: 7, 21: 7, 110: 7, 13: 7, 27: 7, 8: 7, 62: 7, 83: 7, 141: 7, 97: 7, 159: 7, 222: 7, 99: 7, 29: 7, 45: 7, 17: 7, 169: 6, 162: 6, 219: 6, 86: 6, 235: 6, 33: 6, 293: 6, 81: 6, 233: 6, 43: 6, 14: 6, 206: 6, 30: 6, 50: 6, 352: 6, 173: 6, 130: 6, 23: 6, 19: 6, 53: 6, 190: 6, 125: 6, 96: 6, 77: 6, 230: 6, 106: 6, 2: 6, 226: 6, 89: 6, 185: 6, 1: 6, 61: 6, 221: 6, 341: 6, 231: 6, 102: 6, 188: 6, 9: 6, 289: 6, 24: 6, 42: 6, 117: 6, 123: 6, 78: 6, 208: 5, 118: 5, 298: 5, 28: 5, 55: 5, 339: 5, 128: 5, 59: 5, 98: 5, 68: 5, 266: 5, 44: 5, 76: 5, 111: 5, 146: 5, 283: 5, 7: 5, 215: 5, 201: 5, 12: 5, 32: 5, 166: 5, 444: 5, 176: 5, 165: 5, 189: 5, 347: 5, 301: 5, 197: 5, 35: 5, 408: 5, 204: 5, 88: 5, 10: 5, 385: 5, 391: 5, 41: 5, 461: 5, 3: 5, 193: 5, 113: 5, 187: 5, 149: 5, 139: 5, 313: 5, 229: 5, 211: 5, 325: 5, 92: 5, 160: 5, 104: 5, 85: 5, 198: 5, 272: 5, 56: 5, 37: 5, 330: 5, 250: 5, 126: 5, 67: 5, 318: 5, 192: 5, 155: 5, 147: 5, 213: 5, 314: 5, 274: 5, 80: 5, 151: 5, 158: 5, 74: 5, 196: 5, 119: 5, 138: 5, 240: 5, 163: 5, 363: 5, 290: 5, 390: 5, 148: 5, 0: 5, 243: 5, 414: 4, 164: 4, 244: 4, 82: 4, 69: 4, 217: 4, 191: 4, 116: 4, 203: 4, 263: 4, 136: 4, 108: 4, 182: 4, 259: 4, 135: 4, 60: 4, 91: 4, 105: 4, 4: 4, 36: 4, 270: 4, 249: 4, 210: 4, 122: 4, 321: 4, 181: 4, 64: 4, 52: 4, 121: 4, 248: 4, 246: 4, 39: 4, 245: 4, 200: 4, 345: 4, 348: 4, 358: 4, 75: 4, 101: 4, 172: 4, 205: 4, 152: 4, 277: 4, 112: 4, 493: 4, 212: 4, 22: 4, 95: 4, 281: 4, 364: 4, 168: 4, 87: 4, 115: 4, 161: 4, 295: 4, 492: 4, 455: 4, 239: 4, 285: 4, 20: 4, 228: 4, 174: 4, 336: 4, 273: 4, 261: 4, 129: 4, 195: 4, 236: 4, 107: 4, 234: 4, 251: 4, 485: 4, 51: 4, 294: 4, 90: 4, 145: 4, 257: 4, 280: 4, 63: 4, 268: 4, 157: 4, 25: 4, 167: 4, 454: 4, 109: 4, 40: 4, 224: 4, 260: 4, 353: 4, 124: 4, 267: 4, 374: 4, 114: 4, 365: 4, 171: 4, 378: 4, 307: 4, 317: 4, 488: 4, 382: 4, 70: 4, 255: 4, 170: 4, 93: 4, 395: 4, 48: 4, 66: 4, 180: 4, 335: 4, 430: 4, 140: 4, 194: 4, 332: 4, 315: 4, 350: 4, 154: 4, 467: 4, 262: 4, 103: 4, 100: 4, 218: 4, 132: 4, 131: 4, 445: 4, 227: 4, 446: 4, 31: 4, 72: 4, 238: 4, 375: 4, 237: 4, 202: 4, 319: 4, 57: 4, 357: 4, 388: 4, 209: 4, 407: 4, 406: 4, 439: 4, 404: 4, 326: 4, 423: 4, 120: 4, 137: 4, 308: 4, 232: 4, 256: 4, 175: 4, 343: 4, 65: 4, 156: 4, 142: 4, 186: 4, 361: 4, 150: 4, 144: 4, 418: 4, 242: 4, 497: 4, 127: 4, 312: 4, 360: 3, 220: 3, 487: 3, 481: 3, 271: 3, 265: 3, 292: 3, 297: 3, 349: 3, 498: 3, 323: 3, 275: 3, 354: 3, 54: 3, 291: 3, 241: 3, 479: 3, 351: 3, 296: 3, 276: 3, 322: 3, 254: 3, 377: 3, 331: 3, 387: 3, 302: 3, 327: 3, 400: 3, 264: 3, 225: 3, 437: 3, 421: 3, 494: 3, 422: 3, 425: 3, 178: 3, 362: 3, 438: 3, 300: 3, 495: 3, 434: 3, 337: 3, 371: 3, 458: 3, 316: 3, 435: 3, 449: 3, 309: 3, 424: 3, 397: 3, 450: 3, 460: 3, 398: 3, 223: 3, 369: 3, 440: 3, 320: 3, 359: 3, 465: 3, 416: 3, 379: 3, 372: 3, 419: 3, 410: 3, 482: 3, 340: 3, 367: 3, 310: 3, 306: 3, 484: 3, 278: 3, 457: 3, 459: 3, 448: 3, 413: 3, 342: 3, 469: 3, 477: 3, 305: 3, 288: 3, 478: 3, 338: 3, 183: 3, 428: 3, 373: 3, 471: 3, 279: 3, 179: 3, 420: 3, 344: 3, 334: 3, 392: 3, 389: 3, 311: 3, 366: 3, 71: 3, 143: 3, 304: 3, 258: 3, 216: 3, 177: 3, 199: 3, 286: 3, 134: 3, 380: 3, 403: 3, 368: 3, 184: 3, 427: 3, 405: 3, 394: 3, 252: 3, 346: 3, 355: 2, 476: 2, 383: 2, 376: 2, 411: 2, 429: 2, 247: 2, 491: 2, 415: 2, 417: 2, 287: 2, 399: 2, 356: 2, 412: 2, 401: 2, 489: 2, 402: 2, 452: 2, 464: 2, 426: 2, 329: 2, 466: 2, 328: 2, 443: 2, 333: 2, 456: 2, 486: 2, 463: 2, 433: 2, 483: 2, 474: 2, 303: 2, 442: 2, 496: 2, 384: 2, 393: 2, 470: 2, 468: 2, 381: 2, 431: 2, 436: 2, 453: 2, 370: 2, 475: 2, 409: 2, 451: 2, 472: 2, 269: 2, 396: 2, 447: 2, 473: 2, 299: 2, 480: 2, 499: 2, 324: 2, 432: 2, 441: 2, 462: 2, 386: 2, 490: 2, 284: 2})\n"
     ]
    }
   ],
   "source": [
    "# pca = PCA(n_components=n_digits).fit(data)\n",
    "# 这里其实有三种选择'random'/'k-means++''/pca.components_\n",
    "# cluster = KMeans(init='random', n_clusters=n_digits, n_init=10)\n",
    "cluster = Birch(n_clusters=n_digits)\n",
    "cluster.fit(data)\n",
    "\n",
    "c=cluster.labels_\n",
    "\n",
    "print('Resampled dataset shape %s' % Counter(c))\n",
    "\n",
    "# print(metrics.calinski_harabasz_score(data, c))\n",
    "# print(metrics.silhouette_score(data, c,\n",
    "#                           metric='euclidean',\n",
    "#                           sample_size=sample_size))\n",
    "# print(metrics.davies_bouldin_score(data, c))"
   ]
  },
  {
   "cell_type": "code",
   "execution_count": 22,
   "metadata": {
    "ExecuteTime": {
     "end_time": "2021-09-02T13:33:08.993262Z",
     "start_time": "2021-09-02T13:33:08.986713Z"
    }
   },
   "outputs": [],
   "source": [
    "dataframe = pd.DataFrame({'image_name':name,'cls':c})\n",
    "dataframe.to_csv('../kmeans/ISIC18_NPID_birch.csv',index=False)"
   ]
  },
  {
   "cell_type": "code",
   "execution_count": null,
   "metadata": {},
   "outputs": [],
   "source": []
  },
  {
   "cell_type": "code",
   "execution_count": 11,
   "metadata": {},
   "outputs": [],
   "source": [
    "# # 基于实例困难度阈值的欠采样\n",
    "# from imblearn.under_sampling import InstanceHardnessThreshold\n",
    "# from sklearn.neighbors import KNeighborsClassifier\n",
    "# knn = KNeighborsClassifier(n_neighbors=200,n_jobs=8)\n",
    "\n",
    "# iht = InstanceHardnessThreshold(sampling_strategy='all',random_state=42,\n",
    "#                                 n_jobs=8,estimator=knn)\n",
    "# ft_res, c_res = iht.fit_resample(ft, c)\n",
    "# print('Resampled dataset shape %s' % Counter(c_res))\n",
    "# method = iht"
   ]
  },
  {
   "cell_type": "code",
   "execution_count": 12,
   "metadata": {},
   "outputs": [],
   "source": [
    "# index = method.sample_indices_\n",
    "# #df2 = pd.read_csv('./clustering.csv',header = 0)\n",
    "# # name = df2.iloc[:,0].values\n",
    "# name_sel = name[index]\n",
    "\n",
    "# # df3 = pd.read_csv('../path/train_filter.txt',sep = ' ',header = None)\n",
    "# # label = df3.iloc[:,1].values\n",
    "\n",
    "# print('Original dataset shape %s' % Counter(t))\n",
    "\n",
    "# t_sel = t[index]\n",
    "\n",
    "# print('Resampled dataset shape %s' % Counter(t_sel))\n",
    "\n",
    "\n",
    "# len(t_sel)/len(t)"
   ]
  }
 ],
 "metadata": {
  "kernelspec": {
   "display_name": "Python 3",
   "language": "python",
   "name": "python3"
  },
  "language_info": {
   "codemirror_mode": {
    "name": "ipython",
    "version": 3
   },
   "file_extension": ".py",
   "mimetype": "text/x-python",
   "name": "python",
   "nbconvert_exporter": "python",
   "pygments_lexer": "ipython3",
   "version": "3.8.5"
  }
 },
 "nbformat": 4,
 "nbformat_minor": 4
}
